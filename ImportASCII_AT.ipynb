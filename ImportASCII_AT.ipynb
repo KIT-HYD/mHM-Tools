{
 "metadata": {
  "name": "",
  "signature": "sha256:12793d6417ea7205e91edb07679070a449f3c6e5000b2ebfecb27ffe8010a5ef"
 },
 "nbformat": 3,
 "nbformat_minor": 0,
 "worksheets": [
  {
   "cells": [
    {
     "cell_type": "code",
     "collapsed": false,
     "input": [
      "# Skript zum importieren von Pegelstammdaten (ASCII) aus AT"
     ],
     "language": "python",
     "metadata": {},
     "outputs": []
    }
   ],
   "metadata": {}
  }
 ]
}